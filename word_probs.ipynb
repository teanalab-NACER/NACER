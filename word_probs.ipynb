{
 "cells": [
  {
   "cell_type": "code",
   "execution_count": 1,
   "id": "5e0ede8e",
   "metadata": {},
   "outputs": [],
   "source": [
    "import argparse\n",
    "import fileinput\n",
    "import nltk\n",
    "import re\n",
    "from collections import Counter\n",
    "from unidecode import unidecode\n",
    "from nltk.tokenize import RegexpTokenizer\n",
    "tokenizer = RegexpTokenizer(r'\\w+')"
   ]
  },
  {
   "cell_type": "code",
   "execution_count": 8,
   "id": "3debc078",
   "metadata": {},
   "outputs": [
    {
     "name": "stdout",
     "output_type": "stream",
     "text": [
      "Namespace(files=['./data/dbpedia-2021-09-kewer/categories_lang=en_articles.ttl', './data/dbpedia-2021-09-kewer/redirects_lang=en_transitive.ttl', './data/dbpedia-2021-09-kewer/short-abstracts_lang=en.ttl'], outfile='./data/word_probs_new')\n"
     ]
    }
   ],
   "source": [
    "parser = argparse.ArgumentParser()\n",
    "\n",
    "parser.add_argument('files', metavar='FILE', nargs='*', help='files to read, if empty, stdin is used')\n",
    "parser.add_argument('--outfile', default='./data/word_probs_new', help='output file')\n",
    "args = parser.parse_args(args=[])\n",
    "\n",
    "args.files = ['./data/dbpedia-2021-09-kewer/categories_lang=en_articles.ttl',\n",
    "              './data/dbpedia-2021-09-kewer/redirects_lang=en_transitive.ttl',\n",
    "              './data/dbpedia-2021-09-kewer/short-abstracts_lang=en.ttl']\n",
    "\n",
    "print(args)"
   ]
  },
  {
   "cell_type": "code",
   "execution_count": 3,
   "id": "78743b0c",
   "metadata": {},
   "outputs": [],
   "source": [
    "triples = set()"
   ]
  },
  {
   "cell_type": "code",
   "execution_count": 4,
   "id": "2b96f42b",
   "metadata": {},
   "outputs": [],
   "source": [
    "def normal_tokens(text):\n",
    "    tokens = tokenizer.tokenize(text.lower())\n",
    "    norm_tokens = []\n",
    "    for token in tokens:\n",
    "        norm_token = token\n",
    "        if (not any(c.isalpha() for c in norm_token) and\n",
    "                not (re.match(r'^[0-9]{4}$', norm_token) and\n",
    "                    int(norm_token) < 2050)):\n",
    "            norm_token = re.sub(r'\\d', '0', norm_token)\n",
    "        norm_tokens.append(unidecode(norm_token))\n",
    "    return norm_tokens"
   ]
  },
  {
   "cell_type": "code",
   "execution_count": 5,
   "id": "34c3bacc",
   "metadata": {},
   "outputs": [],
   "source": [
    "word_counter = Counter()\n",
    "total_count = 0"
   ]
  },
  {
   "cell_type": "code",
   "execution_count": 6,
   "id": "6a7bbd22",
   "metadata": {},
   "outputs": [],
   "source": [
    "for line in fileinput.input(args.files):\n",
    "    if not line.startswith('#'):\n",
    "        subj, pred, obj = line.split(maxsplit=2)\n",
    "        obj = obj[:obj.rfind('.')].strip()\n",
    "        if obj.startswith('\"'):\n",
    "            lit_text = obj[obj.find('\"')+1:obj.rfind('\"')]\n",
    "            lit_text = (lit_text.replace(r'\\\"', '\"').replace(r'\\t', '\\t').replace(r'\\b', '\\b').\n",
    "                replace(r'\\n', '\\n').replace(r'\\r', '\\r').replace(r'\\f', '\\f'))\n",
    "            lit_text = lit_text.replace(':', '')\n",
    "            sents = nltk.sent_tokenize(lit_text)\n",
    "            for sent in sents:\n",
    "                norm_tokens = normal_tokens(sent.lower())\n",
    "                word_counter.update(norm_tokens)\n",
    "                total_count += len(norm_tokens)"
   ]
  },
  {
   "cell_type": "code",
   "execution_count": 7,
   "id": "5cd98189",
   "metadata": {},
   "outputs": [
    {
     "data": {
      "text/plain": [
       "338437648"
      ]
     },
     "execution_count": 7,
     "metadata": {},
     "output_type": "execute_result"
    }
   ],
   "source": [
    "total_count"
   ]
  },
  {
   "cell_type": "code",
   "execution_count": 9,
   "id": "8c24149f",
   "metadata": {},
   "outputs": [],
   "source": [
    "test_total_prob = 0.0\n",
    "with open(args.outfile, 'w') as out_file:\n",
    "    for word, count in sorted(word_counter.items()):\n",
    "        print(word, count / total_count, sep='\\t', file=out_file)\n",
    "        test_total_prob += count / total_count"
   ]
  },
  {
   "cell_type": "code",
   "execution_count": 10,
   "id": "04ac2ffe",
   "metadata": {},
   "outputs": [
    {
     "name": "stdout",
     "output_type": "stream",
     "text": [
      "Total probability (should be 1): 0.9999999999748292\n"
     ]
    }
   ],
   "source": [
    "print('Total probability (should be 1):', test_total_prob)"
   ]
  }
 ],
 "metadata": {
  "kernelspec": {
   "display_name": "Python 3 (ipykernel)",
   "language": "python",
   "name": "python3"
  },
  "language_info": {
   "codemirror_mode": {
    "name": "ipython",
    "version": 3
   },
   "file_extension": ".py",
   "mimetype": "text/x-python",
   "name": "python",
   "nbconvert_exporter": "python",
   "pygments_lexer": "ipython3",
   "version": "3.7.13"
  }
 },
 "nbformat": 4,
 "nbformat_minor": 5
}
