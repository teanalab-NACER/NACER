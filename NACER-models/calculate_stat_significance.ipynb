{
 "cells": [
  {
   "cell_type": "code",
   "execution_count": 1,
   "id": "3bbac149",
   "metadata": {},
   "outputs": [],
   "source": [
    "import pandas as pd\n",
    "from scipy import stats"
   ]
  },
  {
   "cell_type": "code",
   "execution_count": 2,
   "id": "c1ef4530",
   "metadata": {},
   "outputs": [],
   "source": [
    "alpha = 0.05"
   ]
  },
  {
   "cell_type": "code",
   "execution_count": 20,
   "id": "595a672e",
   "metadata": {},
   "outputs": [],
   "source": [
    "result_file_splits = {\n",
    "    'dev': [],\n",
    "    'test': [\n",
    "        'results/bert-mult-same-test.txt',\n",
    "        'results/kewer-mult-same-blstatic-test.txt',\n",
    "        'results/kewer-mult-same-test.txt',\n",
    "        'results/kvmem-3-3hops-test.txt'\n",
    "    ]\n",
    "}"
   ]
  },
  {
   "cell_type": "code",
   "execution_count": 26,
   "id": "8560fc77",
   "metadata": {},
   "outputs": [
    {
     "name": "stdout",
     "output_type": "stream",
     "text": [
      "results/bert-mult-same-test.txt\n",
      "Hits@1: 861\n",
      "R@1: 0.5901\n",
      "R@1 sign.: True\n",
      "Hits@10: 1363\n",
      "R@10 0.9342\n",
      "R@10 sign.: True\n",
      "MRR 0.7084\n",
      "MRR sign.: True\n",
      "\n",
      "results/kewer-mult-same-blstatic-test.txt\n",
      "Hits@1: 804\n",
      "R@1: 0.5511\n",
      "R@1 sign.: False\n",
      "Hits@10: 1332\n",
      "R@10 0.9130\n",
      "R@10 sign.: True\n",
      "MRR 0.6773\n",
      "MRR sign.: True\n",
      "\n",
      "results/kewer-mult-same-test.txt\n",
      "Hits@1: 671\n",
      "R@1: 0.4599\n",
      "R@1 sign.: False\n",
      "Hits@10: 1208\n",
      "R@10 0.8280\n",
      "R@10 sign.: False\n",
      "MRR 0.5759\n",
      "MRR sign.: False\n",
      "\n",
      "results/kvmem-3-3hops-test.txt\n",
      "Hits@1: 805\n",
      "R@1: 0.5517\n",
      "R@1 sign.: False\n",
      "Hits@10: 1270\n",
      "R@10 0.8705\n",
      "R@10 sign.: False\n",
      "MRR 0.6579\n",
      "MRR sign.: False\n",
      "\n",
      "================================================================================\n"
     ]
    }
   ],
   "source": [
    "baseline = pd.read_csv(f'results/kvmem-3-3hops-test.txt', sep='\\t')\n",
    "for result_file in result_file_splits['test']:\n",
    "    print(result_file)\n",
    "    df = pd.read_csv(result_file, sep='\\t')\n",
    "    df = df[df['question_id'].isin(baseline['question_id'])]\n",
    "    baseline = baseline[baseline['question_id'].isin(df['question_id'])]\n",
    "    print(f'Hits@1: {df.correct_1.sum()}')\n",
    "    print(f'R@1: {df.correct_1.mean():.4f}')\n",
    "    # One-tailed paired Student's t-test. See discussion here https://stackoverflow.com/a/49834007\n",
    "    t_1, p_1 = stats.ttest_rel(df.correct_1, baseline.correct_1)\n",
    "    sign_1 = p_1 / 2 < alpha and t_1 > 0\n",
    "    print(f'R@1 sign.: {sign_1}')\n",
    "\n",
    "    print(f'Hits@10: {df.correct_10.sum()}')\n",
    "    print(f'R@10 {df.correct_10.mean():.4f}')\n",
    "    t_10, p_10 = stats.ttest_rel(df.correct_10, baseline.correct_10)\n",
    "    sign_10 = p_10 / 2 < alpha and t_10 > 0\n",
    "    print(f'R@10 sign.: {sign_10}')\n",
    "\n",
    "    print(f'MRR {df.mrr.mean():.4f}')\n",
    "    t_mrr, p_mrr = stats.ttest_rel(df.mrr, baseline.mrr)\n",
    "    sign_mrr = p_mrr / 2 < alpha and t_mrr > 0\n",
    "    print(f'MRR sign.: {sign_mrr}')\n",
    "\n",
    "    print()\n",
    "\n",
    "print('=' * 80)"
   ]
  },
  {
   "cell_type": "code",
   "execution_count": null,
   "id": "66e7b883",
   "metadata": {},
   "outputs": [],
   "source": []
  }
 ],
 "metadata": {
  "kernelspec": {
   "display_name": "Python 3 (ipykernel)",
   "language": "python",
   "name": "python3"
  },
  "language_info": {
   "codemirror_mode": {
    "name": "ipython",
    "version": 3
   },
   "file_extension": ".py",
   "mimetype": "text/x-python",
   "name": "python",
   "nbconvert_exporter": "python",
   "pygments_lexer": "ipython3",
   "version": "3.7.13"
  }
 },
 "nbformat": 4,
 "nbformat_minor": 5
}
