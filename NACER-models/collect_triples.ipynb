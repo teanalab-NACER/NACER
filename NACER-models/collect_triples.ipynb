{
 "cells": [
  {
   "cell_type": "code",
   "execution_count": 17,
   "id": "09d5e72e",
   "metadata": {},
   "outputs": [],
   "source": [
    "import json\n",
    "import argparse\n",
    "from collections import defaultdict\n",
    "import re\n",
    "from datetime import datetime\n",
    "\n",
    "import utils"
   ]
  },
  {
   "cell_type": "code",
   "execution_count": 18,
   "id": "6ec7605f",
   "metadata": {},
   "outputs": [],
   "source": [
    "objects_path = 'data/dbpedia-2021-09-kewer/graph/mappingbased-objects_lang=en.ttl'\n",
    "literals_path = 'data/dbpedia-2021-09-kewer/graph/mappingbased-literals_lang=en.ttl'\n",
    "infobox_path = 'data/dbpedia-2021-09-kewer/graph/infobox-properties_lang=en.ttl'\n",
    "categories_path = 'data/dbpedia-2021-09-kewer/categories_lang=en_articles.ttl'"
   ]
  },
  {
   "cell_type": "code",
   "execution_count": 19,
   "id": "9b19a743",
   "metadata": {},
   "outputs": [],
   "source": [
    "parser = argparse.ArgumentParser()\n",
    "parser.add_argument('--outfile', default='data/dbpedia-triples.json')\n",
    "args = parser.parse_args(args=[])"
   ]
  },
  {
   "cell_type": "code",
   "execution_count": 20,
   "id": "d52848fb",
   "metadata": {},
   "outputs": [],
   "source": [
    "redirects = utils.dbpedia_redirects()"
   ]
  },
  {
   "cell_type": "code",
   "execution_count": 22,
   "id": "85043580",
   "metadata": {},
   "outputs": [
    {
     "data": {
      "text/plain": [
       "9831571"
      ]
     },
     "execution_count": 22,
     "metadata": {},
     "output_type": "execute_result"
    }
   ],
   "source": [
    "len(redirects)"
   ]
  },
  {
   "cell_type": "code",
   "execution_count": 23,
   "id": "74f7b98c",
   "metadata": {},
   "outputs": [],
   "source": [
    "neighbor_entities = utils.load_neighbor_entities()"
   ]
  },
  {
   "cell_type": "code",
   "execution_count": 25,
   "id": "2305e423",
   "metadata": {},
   "outputs": [
    {
     "data": {
      "text/plain": [
       "453745"
      ]
     },
     "execution_count": 25,
     "metadata": {},
     "output_type": "execute_result"
    }
   ],
   "source": [
    "len(neighbor_entities)"
   ]
  },
  {
   "cell_type": "code",
   "execution_count": 6,
   "id": "c7c9c8d0",
   "metadata": {},
   "outputs": [],
   "source": [
    "neighbor_triples = defaultdict(lambda: defaultdict(set))"
   ]
  },
  {
   "cell_type": "code",
   "execution_count": 7,
   "id": "4a0ecf34",
   "metadata": {},
   "outputs": [],
   "source": [
    "kewer = utils.load_kewer()"
   ]
  },
  {
   "cell_type": "code",
   "execution_count": 8,
   "id": "3e1c3e70",
   "metadata": {},
   "outputs": [],
   "source": [
    "def load_subj_obj_lit_triples():\n",
    "    i = 0\n",
    "\n",
    "    for ttl_path in [objects_path, literals_path, infobox_path]:\n",
    "        with open(ttl_path) as input_file:\n",
    "            for line in input_file:\n",
    "                if line.startswith('#'):\n",
    "                    continue\n",
    "                subj, pred, obj = line.split(maxsplit=2)\n",
    "                if pred.lower() in utils.pred_blacklist or re.match(\n",
    "                        r'<http://dbpedia.org/property/([0-9]|footnote|.{1,2}>$)',\n",
    "                        pred):\n",
    "                    continue\n",
    "                obj = obj[:obj.rfind('.')].strip()\n",
    "                if subj in redirects:\n",
    "                    subj = redirects[subj]\n",
    "                if obj.startswith('<'):\n",
    "                    if obj in redirects:\n",
    "                        obj = redirects[obj]\n",
    "\n",
    "                    if subj in kewer.wv and obj in kewer.wv:\n",
    "                        if subj in neighbor_entities:\n",
    "                            neighbor_triples[subj]['subj'].add((pred, obj))\n",
    "                        if obj in neighbor_entities:\n",
    "                            neighbor_triples[obj]['obj'].add((pred, subj))\n",
    "                elif obj.startswith('\"'):\n",
    "                    if subj in neighbor_entities and subj in kewer.wv:\n",
    "                        text = obj[obj.find('\"') + 1:obj.rfind('\"')]\n",
    "                        tokens = utils.literal_tokens(text)\n",
    "                        if len(tokens):\n",
    "                            neighbor_triples[subj]['lit'].add((pred, ' '.join(tokens)))\n",
    "                i += 1\n",
    "                if i % 1000000 == 0:\n",
    "                    print(f'Processed {i} items. Current time: {datetime.now().strftime(\"%H:%M:%S\")}.')"
   ]
  },
  {
   "cell_type": "code",
   "execution_count": 9,
   "id": "093a8e97",
   "metadata": {
    "collapsed": true
   },
   "outputs": [
    {
     "name": "stdout",
     "output_type": "stream",
     "text": [
      "Processed 1000000 items. Current time: 00:20:19.\n",
      "Processed 2000000 items. Current time: 00:20:26.\n",
      "Processed 3000000 items. Current time: 00:20:33.\n",
      "Processed 4000000 items. Current time: 00:20:41.\n",
      "Processed 5000000 items. Current time: 00:20:47.\n",
      "Processed 6000000 items. Current time: 00:20:55.\n",
      "Processed 7000000 items. Current time: 00:21:03.\n",
      "Processed 8000000 items. Current time: 00:21:09.\n",
      "Processed 9000000 items. Current time: 00:21:18.\n",
      "Processed 10000000 items. Current time: 00:21:24.\n",
      "Processed 11000000 items. Current time: 00:21:31.\n",
      "Processed 12000000 items. Current time: 00:21:38.\n",
      "Processed 13000000 items. Current time: 00:21:44.\n",
      "Processed 14000000 items. Current time: 00:21:51.\n",
      "Processed 15000000 items. Current time: 00:21:59.\n",
      "Processed 16000000 items. Current time: 00:22:06.\n",
      "Processed 17000000 items. Current time: 00:22:13.\n",
      "Processed 18000000 items. Current time: 00:22:20.\n",
      "Processed 19000000 items. Current time: 00:22:26.\n",
      "Processed 20000000 items. Current time: 00:22:33.\n",
      "Processed 21000000 items. Current time: 00:22:40.\n",
      "Processed 22000000 items. Current time: 00:22:49.\n",
      "Processed 23000000 items. Current time: 00:22:55.\n",
      "Processed 24000000 items. Current time: 00:23:01.\n",
      "Processed 25000000 items. Current time: 00:23:06.\n",
      "Processed 26000000 items. Current time: 00:23:11.\n",
      "Processed 27000000 items. Current time: 00:23:17.\n",
      "Processed 28000000 items. Current time: 00:23:23.\n",
      "Processed 29000000 items. Current time: 00:23:29.\n",
      "Processed 30000000 items. Current time: 00:23:34.\n",
      "Processed 31000000 items. Current time: 00:23:39.\n",
      "Processed 32000000 items. Current time: 00:23:45.\n",
      "Processed 33000000 items. Current time: 00:23:50.\n",
      "Processed 34000000 items. Current time: 00:23:59.\n",
      "Processed 35000000 items. Current time: 00:24:05.\n",
      "Processed 36000000 items. Current time: 00:24:10.\n",
      "Processed 37000000 items. Current time: 00:24:17.\n",
      "Processed 38000000 items. Current time: 00:24:23.\n",
      "Processed 39000000 items. Current time: 00:24:29.\n",
      "Processed 40000000 items. Current time: 00:24:35.\n",
      "Processed 41000000 items. Current time: 00:24:40.\n",
      "Processed 42000000 items. Current time: 00:24:46.\n",
      "Processed 43000000 items. Current time: 00:24:52.\n",
      "Processed 44000000 items. Current time: 00:24:58.\n",
      "Processed 45000000 items. Current time: 00:25:04.\n",
      "Processed 46000000 items. Current time: 00:25:10.\n",
      "Processed 47000000 items. Current time: 00:25:17.\n",
      "Processed 48000000 items. Current time: 00:25:23.\n",
      "Processed 49000000 items. Current time: 00:25:29.\n",
      "Processed 50000000 items. Current time: 00:25:35.\n",
      "Processed 51000000 items. Current time: 00:25:42.\n",
      "Processed 52000000 items. Current time: 00:25:48.\n",
      "Processed 53000000 items. Current time: 00:25:54.\n",
      "Processed 54000000 items. Current time: 00:26:00.\n",
      "Processed 55000000 items. Current time: 00:26:06.\n",
      "Processed 56000000 items. Current time: 00:26:13.\n",
      "Processed 57000000 items. Current time: 00:26:19.\n",
      "Processed 58000000 items. Current time: 00:26:27.\n",
      "Processed 59000000 items. Current time: 00:26:34.\n",
      "Processed 60000000 items. Current time: 00:26:41.\n",
      "Processed 61000000 items. Current time: 00:26:48.\n",
      "Processed 62000000 items. Current time: 00:26:55.\n",
      "Processed 63000000 items. Current time: 00:27:02.\n",
      "Processed 64000000 items. Current time: 00:27:10.\n",
      "Processed 65000000 items. Current time: 00:27:17.\n",
      "Processed 66000000 items. Current time: 00:27:24.\n",
      "Processed 67000000 items. Current time: 00:27:31.\n",
      "Processed 68000000 items. Current time: 00:27:38.\n",
      "Processed 69000000 items. Current time: 00:27:45.\n",
      "Processed 70000000 items. Current time: 00:27:52.\n",
      "Processed 71000000 items. Current time: 00:27:59.\n",
      "Processed 72000000 items. Current time: 00:28:06.\n",
      "Processed 73000000 items. Current time: 00:28:13.\n",
      "Processed 74000000 items. Current time: 00:28:20.\n",
      "Processed 75000000 items. Current time: 00:28:27.\n",
      "Processed 76000000 items. Current time: 00:28:34.\n",
      "Processed 77000000 items. Current time: 00:28:41.\n",
      "Processed 78000000 items. Current time: 00:28:49.\n",
      "Processed 79000000 items. Current time: 00:28:56.\n",
      "Processed 80000000 items. Current time: 00:29:03.\n",
      "Processed 81000000 items. Current time: 00:29:11.\n",
      "Processed 82000000 items. Current time: 00:29:17.\n",
      "Processed 83000000 items. Current time: 00:29:25.\n",
      "Processed 84000000 items. Current time: 00:29:32.\n",
      "Processed 85000000 items. Current time: 00:29:39.\n",
      "Processed 86000000 items. Current time: 00:29:46.\n",
      "Processed 87000000 items. Current time: 00:29:53.\n",
      "Processed 88000000 items. Current time: 00:30:01.\n",
      "Processed 89000000 items. Current time: 00:30:07.\n",
      "Processed 90000000 items. Current time: 00:30:14.\n",
      "Processed 91000000 items. Current time: 00:30:21.\n",
      "Processed 92000000 items. Current time: 00:30:28.\n",
      "Processed 93000000 items. Current time: 00:30:35.\n",
      "Processed 94000000 items. Current time: 00:30:43.\n",
      "Processed 95000000 items. Current time: 00:30:50.\n",
      "Processed 96000000 items. Current time: 00:30:57.\n",
      "Processed 97000000 items. Current time: 00:31:04.\n",
      "Processed 98000000 items. Current time: 00:31:11.\n",
      "Processed 99000000 items. Current time: 00:31:18.\n",
      "Processed 100000000 items. Current time: 00:31:25.\n",
      "Processed 101000000 items. Current time: 00:31:32.\n",
      "Processed 102000000 items. Current time: 00:31:39.\n",
      "Processed 103000000 items. Current time: 00:31:46.\n",
      "Processed 104000000 items. Current time: 00:31:53.\n",
      "Processed 105000000 items. Current time: 00:32:00.\n",
      "Processed 106000000 items. Current time: 00:32:07.\n",
      "Processed 107000000 items. Current time: 00:32:14.\n",
      "Processed 108000000 items. Current time: 00:32:21.\n",
      "Processed 109000000 items. Current time: 00:32:29.\n",
      "Processed 110000000 items. Current time: 00:32:41.\n",
      "Processed 111000000 items. Current time: 00:32:49.\n",
      "Processed 112000000 items. Current time: 00:32:56.\n",
      "Processed 113000000 items. Current time: 00:33:03.\n",
      "Processed 114000000 items. Current time: 00:33:10.\n",
      "Processed 115000000 items. Current time: 00:33:17.\n",
      "Processed 116000000 items. Current time: 00:33:24.\n",
      "Processed 117000000 items. Current time: 00:33:32.\n",
      "Processed 118000000 items. Current time: 00:33:39.\n",
      "Processed 119000000 items. Current time: 00:33:46.\n",
      "Processed 120000000 items. Current time: 00:33:53.\n",
      "Processed 121000000 items. Current time: 00:34:03.\n",
      "Processed 122000000 items. Current time: 00:34:11.\n",
      "Processed 123000000 items. Current time: 00:34:18.\n",
      "Processed 124000000 items. Current time: 00:34:25.\n",
      "Processed 125000000 items. Current time: 00:34:32.\n",
      "Processed 126000000 items. Current time: 00:34:39.\n",
      "Processed 127000000 items. Current time: 00:34:46.\n",
      "Processed 128000000 items. Current time: 00:34:53.\n",
      "Done with the non-category triples.\n"
     ]
    }
   ],
   "source": [
    "load_subj_obj_lit_triples()\n",
    "print('Done with the non-category triples.')"
   ]
  },
  {
   "cell_type": "code",
   "execution_count": 10,
   "id": "9cb33e50",
   "metadata": {},
   "outputs": [],
   "source": [
    "def load_cat_triples():\n",
    "    i = 0\n",
    "\n",
    "    with open(categories_path) as input_file:\n",
    "        for line in input_file:\n",
    "            if line.startswith('#'):\n",
    "                continue\n",
    "            subj, pred, obj, _ = line.split()\n",
    "            if subj in redirects:\n",
    "                subj = redirects[subj]\n",
    "\n",
    "            if subj in neighbor_entities and subj in kewer.wv:\n",
    "                neighbor_triples[subj]['cat'].add((pred, obj))\n",
    "            i += 1\n",
    "            if i % 1000000 == 0:\n",
    "                print(f'Processed {i} items. Current time: {datetime.now().strftime(\"%H:%M:%S\")}.')"
   ]
  },
  {
   "cell_type": "code",
   "execution_count": 11,
   "id": "6ed606fb",
   "metadata": {
    "collapsed": true
   },
   "outputs": [
    {
     "name": "stdout",
     "output_type": "stream",
     "text": [
      "Processed 1000000 items. Current time: 00:35:01.\n",
      "Processed 2000000 items. Current time: 00:35:02.\n",
      "Processed 3000000 items. Current time: 00:35:04.\n",
      "Processed 4000000 items. Current time: 00:35:05.\n",
      "Processed 5000000 items. Current time: 00:35:07.\n",
      "Processed 6000000 items. Current time: 00:35:08.\n",
      "Processed 7000000 items. Current time: 00:35:09.\n",
      "Processed 8000000 items. Current time: 00:35:11.\n",
      "Processed 9000000 items. Current time: 00:35:12.\n",
      "Processed 10000000 items. Current time: 00:35:13.\n",
      "Processed 11000000 items. Current time: 00:35:15.\n",
      "Processed 12000000 items. Current time: 00:35:16.\n",
      "Processed 13000000 items. Current time: 00:35:18.\n",
      "Processed 14000000 items. Current time: 00:35:19.\n",
      "Processed 15000000 items. Current time: 00:35:20.\n",
      "Processed 16000000 items. Current time: 00:35:22.\n",
      "Processed 17000000 items. Current time: 00:35:23.\n",
      "Processed 18000000 items. Current time: 00:35:24.\n",
      "Processed 19000000 items. Current time: 00:35:26.\n",
      "Processed 20000000 items. Current time: 00:35:27.\n",
      "Processed 21000000 items. Current time: 00:35:29.\n",
      "Processed 22000000 items. Current time: 00:35:30.\n",
      "Processed 23000000 items. Current time: 00:35:31.\n",
      "Processed 24000000 items. Current time: 00:35:33.\n",
      "Processed 25000000 items. Current time: 00:35:34.\n",
      "Processed 26000000 items. Current time: 00:35:42.\n",
      "Processed 27000000 items. Current time: 00:35:44.\n",
      "Processed 28000000 items. Current time: 00:35:45.\n",
      "Processed 29000000 items. Current time: 00:35:46.\n",
      "Processed 30000000 items. Current time: 00:35:48.\n",
      "Processed 31000000 items. Current time: 00:35:49.\n",
      "Processed 32000000 items. Current time: 00:35:51.\n",
      "Processed 33000000 items. Current time: 00:35:52.\n",
      "Done with the categories.\n"
     ]
    }
   ],
   "source": [
    "load_cat_triples()\n",
    "print('Done with the categories.')"
   ]
  },
  {
   "cell_type": "code",
   "execution_count": 12,
   "id": "45921dea",
   "metadata": {},
   "outputs": [],
   "source": [
    "neighbor_triples = {\n",
    "    entity: {triple_type: sorted(triples) for triple_type, triples in triple_types_dict.items()} for\n",
    "    entity, triple_types_dict in neighbor_triples.items()\n",
    "}"
   ]
  },
  {
   "cell_type": "code",
   "execution_count": 26,
   "id": "efbcb12d",
   "metadata": {},
   "outputs": [
    {
     "data": {
      "text/plain": [
       "453745"
      ]
     },
     "execution_count": 26,
     "metadata": {},
     "output_type": "execute_result"
    }
   ],
   "source": [
    "len(neighbor_triples)"
   ]
  },
  {
   "cell_type": "code",
   "execution_count": 9,
   "id": "4036b0fe",
   "metadata": {},
   "outputs": [
    {
     "data": {
      "text/plain": [
       "'data/dbpedia-triples.json'"
      ]
     },
     "execution_count": 9,
     "metadata": {},
     "output_type": "execute_result"
    }
   ],
   "source": [
    "args.outfile"
   ]
  },
  {
   "cell_type": "code",
   "execution_count": 21,
   "id": "6c9608aa",
   "metadata": {},
   "outputs": [],
   "source": [
    "with open(args.outfile, 'w') as f:\n",
    "    json.dump(neighbor_triples, f, sort_keys=True, indent=4, separators=(',', ': '))"
   ]
  },
  {
   "cell_type": "code",
   "execution_count": 3,
   "id": "50e49203",
   "metadata": {},
   "outputs": [],
   "source": [
    "def load_neighbor_triples():\n",
    "    with open(args.outfile) as ntf:\n",
    "        return json.load(ntf)"
   ]
  },
  {
   "cell_type": "code",
   "execution_count": 10,
   "id": "5970bd27",
   "metadata": {},
   "outputs": [],
   "source": [
    "neighbor_triples = load_neighbor_triples()"
   ]
  },
  {
   "cell_type": "code",
   "execution_count": 11,
   "id": "561ef408",
   "metadata": {},
   "outputs": [
    {
     "data": {
      "text/plain": [
       "453745"
      ]
     },
     "execution_count": 11,
     "metadata": {},
     "output_type": "execute_result"
    }
   ],
   "source": [
    "len(neighbor_triples)"
   ]
  },
  {
   "cell_type": "code",
   "execution_count": 16,
   "id": "44150ca5",
   "metadata": {},
   "outputs": [
    {
     "data": {
      "text/plain": [
       "{'cat': [['<http://purl.org/dc/terms/subject>',\n",
       "   '<http://dbpedia.org/resource/Category:1961_albums>'],\n",
       "  ['<http://purl.org/dc/terms/subject>',\n",
       "   '<http://dbpedia.org/resource/Category:Latin_jazz_albums_by_Cuban_artists>']],\n",
       " 'lit': [['<http://dbpedia.org/property/cover>',\n",
       "   'file mongo santamaria arriba la pachanga album cover jpg'],\n",
       "  ['<http://dbpedia.org/property/headline>', 'side a'],\n",
       "  ['<http://dbpedia.org/property/headline>', 'side b'],\n",
       "  ['<http://dbpedia.org/property/label>', 'fantasy records'],\n",
       "  ['<http://dbpedia.org/property/length>', '156 0'],\n",
       "  ['<http://dbpedia.org/property/length>', '161 0'],\n",
       "  ['<http://dbpedia.org/property/length>', '170 0'],\n",
       "  ['<http://dbpedia.org/property/length>', '178 0'],\n",
       "  ['<http://dbpedia.org/property/length>', '188 0'],\n",
       "  ['<http://dbpedia.org/property/length>', '190 0'],\n",
       "  ['<http://dbpedia.org/property/length>', '201 0'],\n",
       "  ['<http://dbpedia.org/property/length>', '214 0'],\n",
       "  ['<http://dbpedia.org/property/length>', '216 0'],\n",
       "  ['<http://dbpedia.org/property/length>', '220 0'],\n",
       "  ['<http://dbpedia.org/property/length>', '225 0'],\n",
       "  ['<http://dbpedia.org/property/nextYear>', '1959'],\n",
       "  ['<http://dbpedia.org/property/prevYear>', '1958'],\n",
       "  ['<http://dbpedia.org/property/recorded>', '1959'],\n",
       "  ['<http://dbpedia.org/property/rev>',\n",
       "   'the penguin guide to jazz recordings'],\n",
       "  ['<http://dbpedia.org/property/type>', 'studio'],\n",
       "  ['<http://dbpedia.org/property/writer>', 'felix legarreta'],\n",
       "  ['<http://dbpedia.org/property/writer>', 'mongo santamaria']],\n",
       " 'subj': [['<http://dbpedia.org/property/artist>',\n",
       "   '<http://dbpedia.org/resource/Mongo_Santamaría>'],\n",
       "  ['<http://dbpedia.org/property/genre>',\n",
       "   '<http://dbpedia.org/resource/Afro-Cuban_jazz>'],\n",
       "  ['<http://dbpedia.org/property/genre>',\n",
       "   '<http://dbpedia.org/resource/Latin_jazz>'],\n",
       "  ['<http://dbpedia.org/property/rev>',\n",
       "   '<http://dbpedia.org/resource/AllMusic>']]}"
      ]
     },
     "execution_count": 16,
     "metadata": {},
     "output_type": "execute_result"
    }
   ],
   "source": [
    "neighbor_triples['<http://dbpedia.org/resource/!Arriba!_La_Pachanga>']"
   ]
  },
  {
   "cell_type": "code",
   "execution_count": 27,
   "id": "9aa90a36",
   "metadata": {},
   "outputs": [],
   "source": [
    "feature_inputs = utils.load_feature_inputs()"
   ]
  },
  {
   "cell_type": "code",
   "execution_count": 29,
   "id": "bf2b1ed4",
   "metadata": {},
   "outputs": [
    {
     "data": {
      "text/plain": [
       "453745"
      ]
     },
     "execution_count": 29,
     "metadata": {},
     "output_type": "execute_result"
    }
   ],
   "source": [
    "len(feature_inputs)"
   ]
  },
  {
   "cell_type": "code",
   "execution_count": null,
   "id": "c01d8629",
   "metadata": {},
   "outputs": [],
   "source": []
  }
 ],
 "metadata": {
  "kernelspec": {
   "display_name": "Python 3 (ipykernel)",
   "language": "python",
   "name": "python3"
  },
  "language_info": {
   "codemirror_mode": {
    "name": "ipython",
    "version": 3
   },
   "file_extension": ".py",
   "mimetype": "text/x-python",
   "name": "python",
   "nbconvert_exporter": "python",
   "pygments_lexer": "ipython3",
   "version": "3.7.13"
  }
 },
 "nbformat": 4,
 "nbformat_minor": 5
}
