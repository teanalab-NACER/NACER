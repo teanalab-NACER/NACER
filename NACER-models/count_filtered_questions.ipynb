{
 "cells": [
  {
   "cell_type": "code",
   "execution_count": 1,
   "id": "c46dd8fa",
   "metadata": {},
   "outputs": [],
   "source": [
    "import utils"
   ]
  },
  {
   "cell_type": "code",
   "execution_count": 2,
   "id": "f6c2021a",
   "metadata": {},
   "outputs": [],
   "source": [
    "question_neighbors = utils.load_question_neighbors()\n",
    "kvmem_triples = utils.load_kvmem_triples('baseline-3')"
   ]
  },
  {
   "cell_type": "code",
   "execution_count": 3,
   "id": "cb881de6",
   "metadata": {},
   "outputs": [],
   "source": [
    "kvmem_neighbors = {}\n",
    "for question_id, question_triples in kvmem_triples.items():\n",
    "    kvmem_neighbors[question_id] = [obj for _, _, obj in question_triples]"
   ]
  },
  {
   "cell_type": "code",
   "execution_count": 4,
   "id": "0d07f3e4",
   "metadata": {},
   "outputs": [],
   "source": [
    "kewer = utils.load_kewer()"
   ]
  },
  {
   "cell_type": "code",
   "execution_count": 5,
   "id": "def3a8ac",
   "metadata": {},
   "outputs": [],
   "source": [
    "total_questions = {'train': 0, 'dev': 0, 'test': 0}\n",
    "answers_nonempty = {'train': 0, 'dev': 0, 'test': 0}\n",
    "answers_in_kewer = {'train': 0, 'dev': 0, 'test': 0}\n",
    "answers_in_candidates = {'train': 0, 'dev': 0, 'test': 0}\n",
    "answers_in_kvmem_candidates = {'train': 0, 'dev': 0, 'test': 0}\n",
    "one_neighbor = {'train': 0, 'dev': 0, 'test': 0}\n",
    "max_ten_neighbors = {'train': 0, 'dev': 0, 'test': 0}"
   ]
  },
  {
   "cell_type": "code",
   "execution_count": 6,
   "id": "0b87fe02",
   "metadata": {},
   "outputs": [
    {
     "name": "stdout",
     "output_type": "stream",
     "text": [
      "Total questions: {'train': 68454, 'dev': 5451, 'test': 9597}\n",
      "Questions with non-empty answers: {'train': 59796, 'dev': 4772, 'test': 8436}\n",
      "Questions with answers that have a KEWER embedding: {'train': 51996, 'dev': 4140, 'test': 7329}\n",
      "Questions with answers that are among candidate entities: {'train': 14586, 'dev': 1111, 'test': 2020}\n",
      "Questions with only one neighbor which is the answer: {'train': 68, 'dev': 2, 'test': 12}\n",
      "Questions with <= 10 neighbors with the correct answer among them: {'train': 1680, 'dev': 124, 'test': 252}\n",
      "Questions with answers that are among KV-MemNN candidate entities: {'train': 11425, 'dev': 839, 'test': 1548}\n"
     ]
    }
   ],
   "source": [
    "for split in ['train', 'dev', 'test']:\n",
    "    qblink_split = utils.load_qblink_split(split)\n",
    "    for sequence in qblink_split:\n",
    "        for question in ['q1', 'q2', 'q3']:\n",
    "            question_id = str(sequence[question]['t_id'])\n",
    "            question_text = sequence[question]['quetsion_text']\n",
    "\n",
    "            total_questions[split] += 1\n",
    "            if sequence[question]['wiki_page']:\n",
    "                answers_nonempty[split] += 1\n",
    "                question_answer = f\"<http://dbpedia.org/resource/{sequence[question]['wiki_page']}>\"\n",
    "                if question_answer in kewer.wv:\n",
    "                    answers_in_kewer[split] += 1\n",
    "                if question_id in question_neighbors and question_answer in question_neighbors[question_id]:\n",
    "                    answers_in_candidates[split] += 1\n",
    "                    if len(question_neighbors[question_id]) == 1:\n",
    "                        one_neighbor[split] += 1\n",
    "                    if len(question_neighbors[question_id]) <= 10:\n",
    "                        max_ten_neighbors[split] += 1\n",
    "                if question_id in kvmem_neighbors and question_answer in kvmem_neighbors[question_id]:\n",
    "                    answers_in_kvmem_candidates[split] += 1\n",
    "\n",
    "print('Total questions:', total_questions)\n",
    "print('Questions with non-empty answers:', answers_nonempty)\n",
    "print('Questions with answers that have a KEWER embedding:', answers_in_kewer)\n",
    "print('Questions with answers that are among candidate entities:', answers_in_candidates)\n",
    "print('Questions with only one neighbor which is the answer:', one_neighbor)\n",
    "print('Questions with <= 10 neighbors with the correct answer among them:', max_ten_neighbors)\n",
    "print('Questions with answers that are among KV-MemNN candidate entities:', answers_in_kvmem_candidates)"
   ]
  },
  {
   "cell_type": "code",
   "execution_count": null,
   "id": "6f438dfd",
   "metadata": {},
   "outputs": [],
   "source": []
  }
 ],
 "metadata": {
  "kernelspec": {
   "display_name": "Python 3 (ipykernel)",
   "language": "python",
   "name": "python3"
  },
  "language_info": {
   "codemirror_mode": {
    "name": "ipython",
    "version": 3
   },
   "file_extension": ".py",
   "mimetype": "text/x-python",
   "name": "python",
   "nbconvert_exporter": "python",
   "pygments_lexer": "ipython3",
   "version": "3.7.13"
  }
 },
 "nbformat": 4,
 "nbformat_minor": 5
}
